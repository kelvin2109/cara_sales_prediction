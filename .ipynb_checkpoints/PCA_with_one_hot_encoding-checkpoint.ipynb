{
 "cells": [
  {
   "cell_type": "code",
   "execution_count": 177,
   "id": "200bfbd9",
   "metadata": {},
   "outputs": [],
   "source": [
    "import numpy as np\n",
    "import pandas as pd\n",
    "from sklearn.decomposition import PCA"
   ]
  },
  {
   "cell_type": "code",
   "execution_count": 178,
   "id": "bc9af0ab",
   "metadata": {},
   "outputs": [],
   "source": [
    "n_category = 4"
   ]
  },
  {
   "cell_type": "code",
   "execution_count": 179,
   "id": "81b3e2d4",
   "metadata": {},
   "outputs": [],
   "source": [
    "rangedata = np.random.choice(a=n_category,size=1000000)"
   ]
  },
  {
   "cell_type": "code",
   "execution_count": 180,
   "id": "227b7312",
   "metadata": {},
   "outputs": [],
   "source": [
    "rangedata_df = pd.Series(rangedata)\n"
   ]
  },
  {
   "cell_type": "code",
   "execution_count": 181,
   "id": "da21a18d",
   "metadata": {},
   "outputs": [
    {
     "data": {
      "text/plain": [
       "0         2\n",
       "1         3\n",
       "2         0\n",
       "3         3\n",
       "4         3\n",
       "         ..\n",
       "999995    2\n",
       "999996    1\n",
       "999997    2\n",
       "999998    1\n",
       "999999    2\n",
       "Length: 1000000, dtype: int32"
      ]
     },
     "execution_count": 181,
     "metadata": {},
     "output_type": "execute_result"
    }
   ],
   "source": [
    "rangedata_df"
   ]
  },
  {
   "cell_type": "markdown",
   "id": "c128d381",
   "metadata": {},
   "source": [
    "now i will create the one-hot-encoding dataset based on rangedata_df"
   ]
  },
  {
   "cell_type": "code",
   "execution_count": 183,
   "id": "cf55b330",
   "metadata": {},
   "outputs": [],
   "source": [
    "ohe_df = pd.get_dummies(rangedata_df,prefix='cat')\n"
   ]
  },
  {
   "cell_type": "code",
   "execution_count": 184,
   "id": "a63a0dc4",
   "metadata": {},
   "outputs": [
    {
     "data": {
      "text/html": [
       "<div>\n",
       "<style scoped>\n",
       "    .dataframe tbody tr th:only-of-type {\n",
       "        vertical-align: middle;\n",
       "    }\n",
       "\n",
       "    .dataframe tbody tr th {\n",
       "        vertical-align: top;\n",
       "    }\n",
       "\n",
       "    .dataframe thead th {\n",
       "        text-align: right;\n",
       "    }\n",
       "</style>\n",
       "<table border=\"1\" class=\"dataframe\">\n",
       "  <thead>\n",
       "    <tr style=\"text-align: right;\">\n",
       "      <th></th>\n",
       "      <th>cat_0</th>\n",
       "      <th>cat_1</th>\n",
       "      <th>cat_2</th>\n",
       "      <th>cat_3</th>\n",
       "    </tr>\n",
       "  </thead>\n",
       "  <tbody>\n",
       "    <tr>\n",
       "      <th>0</th>\n",
       "      <td>0</td>\n",
       "      <td>0</td>\n",
       "      <td>1</td>\n",
       "      <td>0</td>\n",
       "    </tr>\n",
       "    <tr>\n",
       "      <th>1</th>\n",
       "      <td>0</td>\n",
       "      <td>0</td>\n",
       "      <td>0</td>\n",
       "      <td>1</td>\n",
       "    </tr>\n",
       "    <tr>\n",
       "      <th>2</th>\n",
       "      <td>1</td>\n",
       "      <td>0</td>\n",
       "      <td>0</td>\n",
       "      <td>0</td>\n",
       "    </tr>\n",
       "    <tr>\n",
       "      <th>3</th>\n",
       "      <td>0</td>\n",
       "      <td>0</td>\n",
       "      <td>0</td>\n",
       "      <td>1</td>\n",
       "    </tr>\n",
       "    <tr>\n",
       "      <th>4</th>\n",
       "      <td>0</td>\n",
       "      <td>0</td>\n",
       "      <td>0</td>\n",
       "      <td>1</td>\n",
       "    </tr>\n",
       "    <tr>\n",
       "      <th>...</th>\n",
       "      <td>...</td>\n",
       "      <td>...</td>\n",
       "      <td>...</td>\n",
       "      <td>...</td>\n",
       "    </tr>\n",
       "    <tr>\n",
       "      <th>999995</th>\n",
       "      <td>0</td>\n",
       "      <td>0</td>\n",
       "      <td>1</td>\n",
       "      <td>0</td>\n",
       "    </tr>\n",
       "    <tr>\n",
       "      <th>999996</th>\n",
       "      <td>0</td>\n",
       "      <td>1</td>\n",
       "      <td>0</td>\n",
       "      <td>0</td>\n",
       "    </tr>\n",
       "    <tr>\n",
       "      <th>999997</th>\n",
       "      <td>0</td>\n",
       "      <td>0</td>\n",
       "      <td>1</td>\n",
       "      <td>0</td>\n",
       "    </tr>\n",
       "    <tr>\n",
       "      <th>999998</th>\n",
       "      <td>0</td>\n",
       "      <td>1</td>\n",
       "      <td>0</td>\n",
       "      <td>0</td>\n",
       "    </tr>\n",
       "    <tr>\n",
       "      <th>999999</th>\n",
       "      <td>0</td>\n",
       "      <td>0</td>\n",
       "      <td>1</td>\n",
       "      <td>0</td>\n",
       "    </tr>\n",
       "  </tbody>\n",
       "</table>\n",
       "<p>1000000 rows × 4 columns</p>\n",
       "</div>"
      ],
      "text/plain": [
       "        cat_0  cat_1  cat_2  cat_3\n",
       "0           0      0      1      0\n",
       "1           0      0      0      1\n",
       "2           1      0      0      0\n",
       "3           0      0      0      1\n",
       "4           0      0      0      1\n",
       "...       ...    ...    ...    ...\n",
       "999995      0      0      1      0\n",
       "999996      0      1      0      0\n",
       "999997      0      0      1      0\n",
       "999998      0      1      0      0\n",
       "999999      0      0      1      0\n",
       "\n",
       "[1000000 rows x 4 columns]"
      ]
     },
     "execution_count": 184,
     "metadata": {},
     "output_type": "execute_result"
    }
   ],
   "source": [
    "ohe_df"
   ]
  },
  {
   "cell_type": "markdown",
   "id": "6f87198d",
   "metadata": {},
   "source": [
    "this is our covariance-matrix and we can see that its symetric"
   ]
  },
  {
   "cell_type": "code",
   "execution_count": 185,
   "id": "b7269a0c",
   "metadata": {},
   "outputs": [
    {
     "data": {
      "text/html": [
       "<div>\n",
       "<style scoped>\n",
       "    .dataframe tbody tr th:only-of-type {\n",
       "        vertical-align: middle;\n",
       "    }\n",
       "\n",
       "    .dataframe tbody tr th {\n",
       "        vertical-align: top;\n",
       "    }\n",
       "\n",
       "    .dataframe thead th {\n",
       "        text-align: right;\n",
       "    }\n",
       "</style>\n",
       "<table border=\"1\" class=\"dataframe\">\n",
       "  <thead>\n",
       "    <tr style=\"text-align: right;\">\n",
       "      <th></th>\n",
       "      <th>cat_0</th>\n",
       "      <th>cat_1</th>\n",
       "      <th>cat_2</th>\n",
       "      <th>cat_3</th>\n",
       "    </tr>\n",
       "  </thead>\n",
       "  <tbody>\n",
       "    <tr>\n",
       "      <th>cat_0</th>\n",
       "      <td>0.187319</td>\n",
       "      <td>-0.062393</td>\n",
       "      <td>-0.062499</td>\n",
       "      <td>-0.062427</td>\n",
       "    </tr>\n",
       "    <tr>\n",
       "      <th>cat_1</th>\n",
       "      <td>-0.062393</td>\n",
       "      <td>0.187467</td>\n",
       "      <td>-0.062573</td>\n",
       "      <td>-0.062501</td>\n",
       "    </tr>\n",
       "    <tr>\n",
       "      <th>cat_2</th>\n",
       "      <td>-0.062499</td>\n",
       "      <td>-0.062573</td>\n",
       "      <td>0.187679</td>\n",
       "      <td>-0.062607</td>\n",
       "    </tr>\n",
       "    <tr>\n",
       "      <th>cat_3</th>\n",
       "      <td>-0.062427</td>\n",
       "      <td>-0.062501</td>\n",
       "      <td>-0.062607</td>\n",
       "      <td>0.187536</td>\n",
       "    </tr>\n",
       "  </tbody>\n",
       "</table>\n",
       "</div>"
      ],
      "text/plain": [
       "          cat_0     cat_1     cat_2     cat_3\n",
       "cat_0  0.187319 -0.062393 -0.062499 -0.062427\n",
       "cat_1 -0.062393  0.187467 -0.062573 -0.062501\n",
       "cat_2 -0.062499 -0.062573  0.187679 -0.062607\n",
       "cat_3 -0.062427 -0.062501 -0.062607  0.187536"
      ]
     },
     "execution_count": 185,
     "metadata": {},
     "output_type": "execute_result"
    }
   ],
   "source": [
    "ohe_df.cov()"
   ]
  },
  {
   "cell_type": "code",
   "execution_count": 186,
   "id": "37b9e0be",
   "metadata": {},
   "outputs": [],
   "source": [
    "from sklearn.decomposition import PCA"
   ]
  },
  {
   "cell_type": "code",
   "execution_count": 187,
   "id": "4212c5fa",
   "metadata": {},
   "outputs": [],
   "source": [
    "pca = PCA().fit(ohe_df)"
   ]
  },
  {
   "cell_type": "code",
   "execution_count": 188,
   "id": "ae6c4cb3",
   "metadata": {},
   "outputs": [
    {
     "data": {
      "text/plain": [
       "array([[-0.13521055,  0.1300743 ,  0.84545774, -0.5       ],\n",
       "       [-0.25938488,  0.69661223, -0.44435446, -0.5       ],\n",
       "       [ 0.84405301, -0.1339629 , -0.14010162, -0.5       ],\n",
       "       [-0.44945758, -0.69272363, -0.26100165, -0.5       ]])"
      ]
     },
     "execution_count": 188,
     "metadata": {},
     "output_type": "execute_result"
    }
   ],
   "source": [
    "pca.components_.T"
   ]
  },
  {
   "cell_type": "markdown",
   "id": "c464ed8f",
   "metadata": {},
   "source": [
    "we will make it into dataframe so its easier to be read."
   ]
  },
  {
   "cell_type": "code",
   "execution_count": 189,
   "id": "867460fd",
   "metadata": {},
   "outputs": [],
   "source": [
    "PC_list = [\"PC-{}\".format(i+1) for i in range(4)]"
   ]
  },
  {
   "cell_type": "code",
   "execution_count": 190,
   "id": "f350dd89",
   "metadata": {},
   "outputs": [
    {
     "data": {
      "text/plain": [
       "['PC-1', 'PC-2', 'PC-3', 'PC-4']"
      ]
     },
     "execution_count": 190,
     "metadata": {},
     "output_type": "execute_result"
    }
   ],
   "source": [
    "PC_list"
   ]
  },
  {
   "cell_type": "markdown",
   "id": "30556395",
   "metadata": {},
   "source": [
    "Now, i will perform the PCA"
   ]
  },
  {
   "cell_type": "code",
   "execution_count": 202,
   "id": "c6902b8d",
   "metadata": {},
   "outputs": [],
   "source": [
    "def var_exp(pca):\n",
    "    var_rat = pca.explained_variance_ratio_\n",
    "    list_PC = ['PC' + str(i+1) for i in range(var_rat.shape[0])]\n",
    "    ve = pd.DataFrame(var_rat,index=list_PC,columns=['VarExplained'])\n",
    "    print(ve.round(3))\n",
    "    return ve"
   ]
  },
  {
   "cell_type": "code",
   "execution_count": 203,
   "id": "e9a9dbbe",
   "metadata": {},
   "outputs": [
    {
     "name": "stdout",
     "output_type": "stream",
     "text": [
      "     VarExplained\n",
      "PC1         0.334\n",
      "PC2         0.333\n",
      "PC3         0.333\n",
      "PC4         0.000\n"
     ]
    },
    {
     "data": {
      "text/html": [
       "<div>\n",
       "<style scoped>\n",
       "    .dataframe tbody tr th:only-of-type {\n",
       "        vertical-align: middle;\n",
       "    }\n",
       "\n",
       "    .dataframe tbody tr th {\n",
       "        vertical-align: top;\n",
       "    }\n",
       "\n",
       "    .dataframe thead th {\n",
       "        text-align: right;\n",
       "    }\n",
       "</style>\n",
       "<table border=\"1\" class=\"dataframe\">\n",
       "  <thead>\n",
       "    <tr style=\"text-align: right;\">\n",
       "      <th></th>\n",
       "      <th>VarExplained</th>\n",
       "    </tr>\n",
       "  </thead>\n",
       "  <tbody>\n",
       "    <tr>\n",
       "      <th>PC1</th>\n",
       "      <td>3.336777e-01</td>\n",
       "    </tr>\n",
       "    <tr>\n",
       "      <th>PC2</th>\n",
       "      <td>3.333365e-01</td>\n",
       "    </tr>\n",
       "    <tr>\n",
       "      <th>PC3</th>\n",
       "      <td>3.329858e-01</td>\n",
       "    </tr>\n",
       "    <tr>\n",
       "      <th>PC4</th>\n",
       "      <td>7.032046e-26</td>\n",
       "    </tr>\n",
       "  </tbody>\n",
       "</table>\n",
       "</div>"
      ],
      "text/plain": [
       "     VarExplained\n",
       "PC1  3.336777e-01\n",
       "PC2  3.333365e-01\n",
       "PC3  3.329858e-01\n",
       "PC4  7.032046e-26"
      ]
     },
     "execution_count": 203,
     "metadata": {},
     "output_type": "execute_result"
    }
   ],
   "source": [
    "var_exp(pca)"
   ]
  },
  {
   "cell_type": "markdown",
   "id": "4450a924",
   "metadata": {},
   "source": [
    "\n",
    "now see the variance on each PC . it look almost the same except for PC-4.\n",
    " \n",
    "since all the Pc has same variance its completely useless to be used.\n",
    "we want to use PCA is to make the new component has more variance than the original one. so we can slice some of the column to makes the training faster.\n"
   ]
  }
 ],
 "metadata": {
  "kernelspec": {
   "display_name": "Python 3 (ipykernel)",
   "language": "python",
   "name": "python3"
  },
  "language_info": {
   "codemirror_mode": {
    "name": "ipython",
    "version": 3
   },
   "file_extension": ".py",
   "mimetype": "text/x-python",
   "name": "python",
   "nbconvert_exporter": "python",
   "pygments_lexer": "ipython3",
   "version": "3.8.10"
  }
 },
 "nbformat": 4,
 "nbformat_minor": 5
}
