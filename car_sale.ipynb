{
 "cells": [
  {
   "cell_type": "code",
   "execution_count": 3,
   "id": "801a32e1",
   "metadata": {},
   "outputs": [],
   "source": [
    "import pandas as pd\n",
    "import numpy as np\n",
    "import matplotlib.pyplot as plt\n",
    "import seaborn as sns"
   ]
  },
  {
   "cell_type": "code",
   "execution_count": 4,
   "id": "87a4f23b",
   "metadata": {},
   "outputs": [],
   "source": [
    "df = pd.read_csv('dataset/used_car_sales.csv')"
   ]
  },
  {
   "cell_type": "markdown",
   "id": "d8c89873",
   "metadata": {},
   "source": [
    "# EDA"
   ]
  },
  {
   "cell_type": "code",
   "execution_count": 5,
   "id": "ceeed2c1",
   "metadata": {},
   "outputs": [
    {
     "data": {
      "text/html": [
       "<div>\n",
       "<style scoped>\n",
       "    .dataframe tbody tr th:only-of-type {\n",
       "        vertical-align: middle;\n",
       "    }\n",
       "\n",
       "    .dataframe tbody tr th {\n",
       "        vertical-align: top;\n",
       "    }\n",
       "\n",
       "    .dataframe thead th {\n",
       "        text-align: right;\n",
       "    }\n",
       "</style>\n",
       "<table border=\"1\" class=\"dataframe\">\n",
       "  <thead>\n",
       "    <tr style=\"text-align: right;\">\n",
       "      <th></th>\n",
       "      <th>Unnamed: 0</th>\n",
       "      <th>Name</th>\n",
       "      <th>Year</th>\n",
       "      <th>Kilometers_Driven</th>\n",
       "      <th>Fuel_Type</th>\n",
       "      <th>Transmission</th>\n",
       "      <th>Owner_Type</th>\n",
       "      <th>Mileage</th>\n",
       "      <th>Engine</th>\n",
       "      <th>Power</th>\n",
       "      <th>Seats</th>\n",
       "      <th>Price</th>\n",
       "    </tr>\n",
       "  </thead>\n",
       "  <tbody>\n",
       "    <tr>\n",
       "      <th>0</th>\n",
       "      <td>0</td>\n",
       "      <td>Maruti Wagon R LXI CNG</td>\n",
       "      <td>2010</td>\n",
       "      <td>72000</td>\n",
       "      <td>CNG</td>\n",
       "      <td>Manual</td>\n",
       "      <td>First</td>\n",
       "      <td>26.6 km/kg</td>\n",
       "      <td>998 CC</td>\n",
       "      <td>58.16 bhp</td>\n",
       "      <td>5.0</td>\n",
       "      <td>35936250.0</td>\n",
       "    </tr>\n",
       "    <tr>\n",
       "      <th>1</th>\n",
       "      <td>1</td>\n",
       "      <td>Hyundai Creta 1.6 CRDi SX Option</td>\n",
       "      <td>2015</td>\n",
       "      <td>41000</td>\n",
       "      <td>Diesel</td>\n",
       "      <td>Manual</td>\n",
       "      <td>First</td>\n",
       "      <td>19.67 kmpl</td>\n",
       "      <td>1582 CC</td>\n",
       "      <td>126.2 bhp</td>\n",
       "      <td>5.0</td>\n",
       "      <td>256687500.0</td>\n",
       "    </tr>\n",
       "    <tr>\n",
       "      <th>2</th>\n",
       "      <td>3</td>\n",
       "      <td>Maruti Ertiga VDI</td>\n",
       "      <td>2012</td>\n",
       "      <td>87000</td>\n",
       "      <td>Diesel</td>\n",
       "      <td>Manual</td>\n",
       "      <td>First</td>\n",
       "      <td>20.77 kmpl</td>\n",
       "      <td>1248 CC</td>\n",
       "      <td>88.76 bhp</td>\n",
       "      <td>7.0</td>\n",
       "      <td>123210000.0</td>\n",
       "    </tr>\n",
       "    <tr>\n",
       "      <th>3</th>\n",
       "      <td>6</td>\n",
       "      <td>Nissan Micra Diesel XV</td>\n",
       "      <td>2013</td>\n",
       "      <td>86999</td>\n",
       "      <td>Diesel</td>\n",
       "      <td>Manual</td>\n",
       "      <td>First</td>\n",
       "      <td>23.08 kmpl</td>\n",
       "      <td>1461 CC</td>\n",
       "      <td>63.1 bhp</td>\n",
       "      <td>5.0</td>\n",
       "      <td>71872500.0</td>\n",
       "    </tr>\n",
       "    <tr>\n",
       "      <th>4</th>\n",
       "      <td>12</td>\n",
       "      <td>Maruti Swift VDI BSIV</td>\n",
       "      <td>2015</td>\n",
       "      <td>64424</td>\n",
       "      <td>Diesel</td>\n",
       "      <td>Manual</td>\n",
       "      <td>First</td>\n",
       "      <td>25.2 kmpl</td>\n",
       "      <td>1248 CC</td>\n",
       "      <td>74 bhp</td>\n",
       "      <td>5.0</td>\n",
       "      <td>114996000.0</td>\n",
       "    </tr>\n",
       "  </tbody>\n",
       "</table>\n",
       "</div>"
      ],
      "text/plain": [
       "   Unnamed: 0                              Name  Year  Kilometers_Driven  \\\n",
       "0           0            Maruti Wagon R LXI CNG  2010              72000   \n",
       "1           1  Hyundai Creta 1.6 CRDi SX Option  2015              41000   \n",
       "2           3                 Maruti Ertiga VDI  2012              87000   \n",
       "3           6            Nissan Micra Diesel XV  2013              86999   \n",
       "4          12             Maruti Swift VDI BSIV  2015              64424   \n",
       "\n",
       "  Fuel_Type Transmission Owner_Type     Mileage   Engine      Power  Seats  \\\n",
       "0       CNG       Manual      First  26.6 km/kg   998 CC  58.16 bhp    5.0   \n",
       "1    Diesel       Manual      First  19.67 kmpl  1582 CC  126.2 bhp    5.0   \n",
       "2    Diesel       Manual      First  20.77 kmpl  1248 CC  88.76 bhp    7.0   \n",
       "3    Diesel       Manual      First  23.08 kmpl  1461 CC   63.1 bhp    5.0   \n",
       "4    Diesel       Manual      First   25.2 kmpl  1248 CC     74 bhp    5.0   \n",
       "\n",
       "         Price  \n",
       "0   35936250.0  \n",
       "1  256687500.0  \n",
       "2  123210000.0  \n",
       "3   71872500.0  \n",
       "4  114996000.0  "
      ]
     },
     "execution_count": 5,
     "metadata": {},
     "output_type": "execute_result"
    }
   ],
   "source": [
    "df.head()"
   ]
  },
  {
   "cell_type": "code",
   "execution_count": 6,
   "id": "b016a9b8",
   "metadata": {},
   "outputs": [
    {
     "data": {
      "text/plain": [
       "(2059, 12)"
      ]
     },
     "execution_count": 6,
     "metadata": {},
     "output_type": "execute_result"
    }
   ],
   "source": [
    "df.shape"
   ]
  },
  {
   "cell_type": "code",
   "execution_count": 7,
   "id": "a3dd8e21",
   "metadata": {},
   "outputs": [],
   "source": [
    "df = df.drop(columns=['Unnamed: 0'])"
   ]
  },
  {
   "cell_type": "markdown",
   "id": "36672edb",
   "metadata": {},
   "source": [
    "Next, below we check the data types in each feature."
   ]
  },
  {
   "cell_type": "code",
   "execution_count": 8,
   "id": "f3d87a99",
   "metadata": {},
   "outputs": [
    {
     "data": {
      "text/plain": [
       "Name                  object\n",
       "Year                   int64\n",
       "Kilometers_Driven      int64\n",
       "Fuel_Type             object\n",
       "Transmission          object\n",
       "Owner_Type            object\n",
       "Mileage               object\n",
       "Engine                object\n",
       "Power                 object\n",
       "Seats                float64\n",
       "Price                float64\n",
       "dtype: object"
      ]
     },
     "execution_count": 8,
     "metadata": {},
     "output_type": "execute_result"
    }
   ],
   "source": [
    "df.dtypes"
   ]
  },
  {
   "cell_type": "code",
   "execution_count": 9,
   "id": "dacbbe3c",
   "metadata": {},
   "outputs": [
    {
     "name": "stdout",
     "output_type": "stream",
     "text": [
      "<class 'pandas.core.frame.DataFrame'>\n",
      "RangeIndex: 2059 entries, 0 to 2058\n",
      "Data columns (total 11 columns):\n",
      " #   Column             Non-Null Count  Dtype  \n",
      "---  ------             --------------  -----  \n",
      " 0   Name               2059 non-null   object \n",
      " 1   Year               2059 non-null   int64  \n",
      " 2   Kilometers_Driven  2059 non-null   int64  \n",
      " 3   Fuel_Type          2059 non-null   object \n",
      " 4   Transmission       2059 non-null   object \n",
      " 5   Owner_Type         2059 non-null   object \n",
      " 6   Mileage            2059 non-null   object \n",
      " 7   Engine             2059 non-null   object \n",
      " 8   Power              2059 non-null   object \n",
      " 9   Seats              2059 non-null   float64\n",
      " 10  Price              2059 non-null   float64\n",
      "dtypes: float64(2), int64(2), object(7)\n",
      "memory usage: 177.1+ KB\n"
     ]
    }
   ],
   "source": [
    "df.info()"
   ]
  },
  {
   "cell_type": "code",
   "execution_count": 10,
   "id": "5241f9d9",
   "metadata": {},
   "outputs": [
    {
     "data": {
      "text/html": [
       "<div>\n",
       "<style scoped>\n",
       "    .dataframe tbody tr th:only-of-type {\n",
       "        vertical-align: middle;\n",
       "    }\n",
       "\n",
       "    .dataframe tbody tr th {\n",
       "        vertical-align: top;\n",
       "    }\n",
       "\n",
       "    .dataframe thead th {\n",
       "        text-align: right;\n",
       "    }\n",
       "</style>\n",
       "<table border=\"1\" class=\"dataframe\">\n",
       "  <thead>\n",
       "    <tr style=\"text-align: right;\">\n",
       "      <th></th>\n",
       "      <th>Year</th>\n",
       "      <th>Kilometers_Driven</th>\n",
       "      <th>Seats</th>\n",
       "      <th>Price</th>\n",
       "    </tr>\n",
       "  </thead>\n",
       "  <tbody>\n",
       "    <tr>\n",
       "      <th>count</th>\n",
       "      <td>2059.000000</td>\n",
       "      <td>2059.000000</td>\n",
       "      <td>2059.000000</td>\n",
       "      <td>2.059000e+03</td>\n",
       "    </tr>\n",
       "    <tr>\n",
       "      <th>mean</th>\n",
       "      <td>2013.455075</td>\n",
       "      <td>59285.758621</td>\n",
       "      <td>5.300631</td>\n",
       "      <td>1.511112e+08</td>\n",
       "    </tr>\n",
       "    <tr>\n",
       "      <th>std</th>\n",
       "      <td>2.520335</td>\n",
       "      <td>37942.867971</td>\n",
       "      <td>0.743913</td>\n",
       "      <td>1.405421e+08</td>\n",
       "    </tr>\n",
       "    <tr>\n",
       "      <th>min</th>\n",
       "      <td>2001.000000</td>\n",
       "      <td>1048.000000</td>\n",
       "      <td>5.000000</td>\n",
       "      <td>1.232100e+07</td>\n",
       "    </tr>\n",
       "    <tr>\n",
       "      <th>25%</th>\n",
       "      <td>2012.000000</td>\n",
       "      <td>37272.500000</td>\n",
       "      <td>5.000000</td>\n",
       "      <td>6.981900e+07</td>\n",
       "    </tr>\n",
       "    <tr>\n",
       "      <th>50%</th>\n",
       "      <td>2014.000000</td>\n",
       "      <td>55598.000000</td>\n",
       "      <td>5.000000</td>\n",
       "      <td>1.049338e+08</td>\n",
       "    </tr>\n",
       "    <tr>\n",
       "      <th>75%</th>\n",
       "      <td>2015.000000</td>\n",
       "      <td>72001.500000</td>\n",
       "      <td>5.000000</td>\n",
       "      <td>1.652041e+08</td>\n",
       "    </tr>\n",
       "    <tr>\n",
       "      <th>max</th>\n",
       "      <td>2019.000000</td>\n",
       "      <td>720000.000000</td>\n",
       "      <td>8.000000</td>\n",
       "      <td>1.078088e+09</td>\n",
       "    </tr>\n",
       "  </tbody>\n",
       "</table>\n",
       "</div>"
      ],
      "text/plain": [
       "              Year  Kilometers_Driven        Seats         Price\n",
       "count  2059.000000        2059.000000  2059.000000  2.059000e+03\n",
       "mean   2013.455075       59285.758621     5.300631  1.511112e+08\n",
       "std       2.520335       37942.867971     0.743913  1.405421e+08\n",
       "min    2001.000000        1048.000000     5.000000  1.232100e+07\n",
       "25%    2012.000000       37272.500000     5.000000  6.981900e+07\n",
       "50%    2014.000000       55598.000000     5.000000  1.049338e+08\n",
       "75%    2015.000000       72001.500000     5.000000  1.652041e+08\n",
       "max    2019.000000      720000.000000     8.000000  1.078088e+09"
      ]
     },
     "execution_count": 10,
     "metadata": {},
     "output_type": "execute_result"
    }
   ],
   "source": [
    "df.describe()"
   ]
  },
  {
   "cell_type": "markdown",
   "id": "4a7547cb",
   "metadata": {},
   "source": [
    "# Data Cleaning "
   ]
  },
  {
   "cell_type": "markdown",
   "id": "0ae7a39a",
   "metadata": {},
   "source": [
    "Data cleansing or also known as data scrubbing is a process of analyzing the quality of the data by changing it. The cleaned data is data that is wrong, damaged, inaccurate, incomplete and formatted."
   ]
  },
  {
   "cell_type": "code",
   "execution_count": 11,
   "id": "b0825bed",
   "metadata": {
    "scrolled": true
   },
   "outputs": [
    {
     "data": {
      "text/plain": [
       "Name                 False\n",
       "Year                 False\n",
       "Kilometers_Driven    False\n",
       "Fuel_Type            False\n",
       "Transmission         False\n",
       "Owner_Type           False\n",
       "Mileage              False\n",
       "Engine               False\n",
       "Power                False\n",
       "Seats                False\n",
       "Price                False\n",
       "dtype: bool"
      ]
     },
     "execution_count": 11,
     "metadata": {},
     "output_type": "execute_result"
    }
   ],
   "source": [
    "df.isnull().any()"
   ]
  },
  {
   "cell_type": "markdown",
   "id": "a440c74b",
   "metadata": {},
   "source": [
    "From what we can see, it doesn't show any Nanvalue/null, but this can't be a definitive benchmark that the dataset doesn't have an empty dataset. It's possible that the null value is replaced with the value '0' for numeric or the null value has been replaced with a string that says ' null'"
   ]
  },
  {
   "cell_type": "markdown",
   "id": "7631f991",
   "metadata": {},
   "source": [
    "Therefore we will create a function to check whether the value in the numeric column has the same value as '0' or the value in the object/string column contains the words 'null'."
   ]
  },
  {
   "cell_type": "code",
   "execution_count": 12,
   "id": "bdd6fa94",
   "metadata": {},
   "outputs": [],
   "source": [
    "def check_null_or_zero(df):\n",
    "    for i in df.columns.values:\n",
    "        if (df[i].dtypes == 'object'):\n",
    "            if df[i].str.contains('null').any():\n",
    "                print('column {} contain null'.format(i))\n",
    "        else:\n",
    "            if (df[i][0] == 0) :\n",
    "                print('Column {} has value 0'.format(i))            "
   ]
  },
  {
   "cell_type": "code",
   "execution_count": 13,
   "id": "4fac5a7b",
   "metadata": {},
   "outputs": [],
   "source": [
    "delrow_id = df[df['Power'].str.contains('null') == True].index\n"
   ]
  },
  {
   "cell_type": "code",
   "execution_count": 14,
   "id": "8356ed49",
   "metadata": {},
   "outputs": [
    {
     "name": "stdout",
     "output_type": "stream",
     "text": [
      "column Power contain null\n"
     ]
    }
   ],
   "source": [
    "check_null_or_zero(df)"
   ]
  },
  {
   "cell_type": "markdown",
   "id": "8892a354",
   "metadata": {},
   "source": [
    "From what we check from the function we created, there is a null value in the 'Power' column"
   ]
  },
  {
   "cell_type": "code",
   "execution_count": 15,
   "id": "3abefbae",
   "metadata": {},
   "outputs": [],
   "source": [
    "df.drop(delrow_id,inplace=True)"
   ]
  },
  {
   "cell_type": "code",
   "execution_count": 16,
   "id": "0a65e23c",
   "metadata": {},
   "outputs": [],
   "source": [
    "def replace_certain_str(arr):\n",
    "    for i in arr:\n",
    "        if (i== 'Mileage'):\n",
    "            df['Mileage'] = df['Mileage'].str.replace('km/kg', '')\n",
    "            df['Mileage'] = df['Mileage'].str.replace('kmpl','')\n",
    "            df['Mileage'] = df['Mileage'].astype('float')\n",
    "        elif (i == 'Engine'):\n",
    "            df['Engine'] = df['Engine'].str.replace('CC','')\n",
    "            df['Engine'] = df['Engine'].astype('float')\n",
    "        else:\n",
    "            df['Power'] = df['Power'].str.replace('bhp','')\n",
    "            df['Power'] = df['Power'].astype('float')"
   ]
  },
  {
   "cell_type": "code",
   "execution_count": 17,
   "id": "8454076a",
   "metadata": {},
   "outputs": [],
   "source": [
    "arr = ['Mileage','Power','Engine']"
   ]
  },
  {
   "cell_type": "code",
   "execution_count": 18,
   "id": "9b3920a6",
   "metadata": {},
   "outputs": [],
   "source": [
    "replace_certain_str(arr)"
   ]
  },
  {
   "cell_type": "code",
   "execution_count": 19,
   "id": "f2b4a2f3",
   "metadata": {},
   "outputs": [
    {
     "data": {
      "text/html": [
       "<div>\n",
       "<style scoped>\n",
       "    .dataframe tbody tr th:only-of-type {\n",
       "        vertical-align: middle;\n",
       "    }\n",
       "\n",
       "    .dataframe tbody tr th {\n",
       "        vertical-align: top;\n",
       "    }\n",
       "\n",
       "    .dataframe thead th {\n",
       "        text-align: right;\n",
       "    }\n",
       "</style>\n",
       "<table border=\"1\" class=\"dataframe\">\n",
       "  <thead>\n",
       "    <tr style=\"text-align: right;\">\n",
       "      <th></th>\n",
       "      <th>Name</th>\n",
       "      <th>Year</th>\n",
       "      <th>Kilometers_Driven</th>\n",
       "      <th>Fuel_Type</th>\n",
       "      <th>Transmission</th>\n",
       "      <th>Owner_Type</th>\n",
       "      <th>Mileage</th>\n",
       "      <th>Engine</th>\n",
       "      <th>Power</th>\n",
       "      <th>Seats</th>\n",
       "      <th>Price</th>\n",
       "    </tr>\n",
       "  </thead>\n",
       "  <tbody>\n",
       "    <tr>\n",
       "      <th>0</th>\n",
       "      <td>Maruti Wagon R LXI CNG</td>\n",
       "      <td>2010</td>\n",
       "      <td>72000</td>\n",
       "      <td>CNG</td>\n",
       "      <td>Manual</td>\n",
       "      <td>First</td>\n",
       "      <td>26.60</td>\n",
       "      <td>998.0</td>\n",
       "      <td>58.16</td>\n",
       "      <td>5.0</td>\n",
       "      <td>35936250.0</td>\n",
       "    </tr>\n",
       "    <tr>\n",
       "      <th>1</th>\n",
       "      <td>Hyundai Creta 1.6 CRDi SX Option</td>\n",
       "      <td>2015</td>\n",
       "      <td>41000</td>\n",
       "      <td>Diesel</td>\n",
       "      <td>Manual</td>\n",
       "      <td>First</td>\n",
       "      <td>19.67</td>\n",
       "      <td>1582.0</td>\n",
       "      <td>126.20</td>\n",
       "      <td>5.0</td>\n",
       "      <td>256687500.0</td>\n",
       "    </tr>\n",
       "    <tr>\n",
       "      <th>2</th>\n",
       "      <td>Maruti Ertiga VDI</td>\n",
       "      <td>2012</td>\n",
       "      <td>87000</td>\n",
       "      <td>Diesel</td>\n",
       "      <td>Manual</td>\n",
       "      <td>First</td>\n",
       "      <td>20.77</td>\n",
       "      <td>1248.0</td>\n",
       "      <td>88.76</td>\n",
       "      <td>7.0</td>\n",
       "      <td>123210000.0</td>\n",
       "    </tr>\n",
       "    <tr>\n",
       "      <th>3</th>\n",
       "      <td>Nissan Micra Diesel XV</td>\n",
       "      <td>2013</td>\n",
       "      <td>86999</td>\n",
       "      <td>Diesel</td>\n",
       "      <td>Manual</td>\n",
       "      <td>First</td>\n",
       "      <td>23.08</td>\n",
       "      <td>1461.0</td>\n",
       "      <td>63.10</td>\n",
       "      <td>5.0</td>\n",
       "      <td>71872500.0</td>\n",
       "    </tr>\n",
       "    <tr>\n",
       "      <th>4</th>\n",
       "      <td>Maruti Swift VDI BSIV</td>\n",
       "      <td>2015</td>\n",
       "      <td>64424</td>\n",
       "      <td>Diesel</td>\n",
       "      <td>Manual</td>\n",
       "      <td>First</td>\n",
       "      <td>25.20</td>\n",
       "      <td>1248.0</td>\n",
       "      <td>74.00</td>\n",
       "      <td>5.0</td>\n",
       "      <td>114996000.0</td>\n",
       "    </tr>\n",
       "  </tbody>\n",
       "</table>\n",
       "</div>"
      ],
      "text/plain": [
       "                               Name  Year  Kilometers_Driven Fuel_Type  \\\n",
       "0            Maruti Wagon R LXI CNG  2010              72000       CNG   \n",
       "1  Hyundai Creta 1.6 CRDi SX Option  2015              41000    Diesel   \n",
       "2                 Maruti Ertiga VDI  2012              87000    Diesel   \n",
       "3            Nissan Micra Diesel XV  2013              86999    Diesel   \n",
       "4             Maruti Swift VDI BSIV  2015              64424    Diesel   \n",
       "\n",
       "  Transmission Owner_Type  Mileage  Engine   Power  Seats        Price  \n",
       "0       Manual      First    26.60   998.0   58.16    5.0   35936250.0  \n",
       "1       Manual      First    19.67  1582.0  126.20    5.0  256687500.0  \n",
       "2       Manual      First    20.77  1248.0   88.76    7.0  123210000.0  \n",
       "3       Manual      First    23.08  1461.0   63.10    5.0   71872500.0  \n",
       "4       Manual      First    25.20  1248.0   74.00    5.0  114996000.0  "
      ]
     },
     "execution_count": 19,
     "metadata": {},
     "output_type": "execute_result"
    }
   ],
   "source": [
    "df.head()"
   ]
  },
  {
   "cell_type": "markdown",
   "id": "b59132ae",
   "metadata": {},
   "source": [
    "# Check data-correlation"
   ]
  },
  {
   "cell_type": "markdown",
   "id": "889b5f18",
   "metadata": {},
   "source": [
    "we check the correlation between various features with price, the stronger the correlation between features and price, the better the dataset."
   ]
  },
  {
   "cell_type": "code",
   "execution_count": 20,
   "id": "f16ddfeb",
   "metadata": {
    "scrolled": true
   },
   "outputs": [
    {
     "data": {
      "text/plain": [
       "<AxesSubplot:>"
      ]
     },
     "execution_count": 20,
     "metadata": {},
     "output_type": "execute_result"
    },
    {
     "data": {
      "image/png": "[encoded data removed]",
      "text/plain": [
       "<Figure size 576x576 with 2 Axes>"
      ]
     },
     "metadata": {
      "needs_background": "light"
     },
     "output_type": "display_data"
    }
   ],
   "source": [
    "plt.figure(figsize=(8,8))\n",
    "sns.heatmap(df.corr(),annot=True)"
   ]
  },
  {
   "cell_type": "code",
   "execution_count": 21,
   "id": "8b8c0b32",
   "metadata": {},
   "outputs": [],
   "source": [
    "mask = np.triu(np.ones_like(df.corr(), dtype=np.bool))"
   ]
  },
  {
   "cell_type": "code",
   "execution_count": 22,
   "id": "56a08e69",
   "metadata": {
    "scrolled": true
   },
   "outputs": [
    {
     "data": {
      "image/png": "[encoded data removed]",
      "text/plain": [
       "<Figure size 432x288 with 2 Axes>"
      ]
     },
     "metadata": {
      "needs_background": "light"
     },
     "output_type": "display_data"
    }
   ],
   "source": [
    "heatmap = sns.heatmap(df.corr(),mask=mask ,vmin=-1, vmax=1, annot=True, cmap='BrBG')"
   ]
  },
  {
   "cell_type": "code",
   "execution_count": 23,
   "id": "c0338f8f",
   "metadata": {},
   "outputs": [
    {
     "data": {
      "text/plain": [
       "Text(0.5, 1.0, 'Features Correlating with sales')"
      ]
     },
     "execution_count": 23,
     "metadata": {},
     "output_type": "execute_result"
    },
    {
     "data": {
      "image/png": "[encoded data removed]",
      "text/plain": [
       "<Figure size 576x864 with 2 Axes>"
      ]
     },
     "metadata": {
      "needs_background": "light"
     },
     "output_type": "display_data"
    }
   ],
   "source": [
    "plt.figure(figsize=(8, 12))\n",
    "hm = sns.heatmap(df.corr()[['Price']].sort_values(by='Price',ascending = False),vmin=-1,vmax=1,annot=True,cmap='BrBG')\n",
    "hm.set_title('Features Correlating with sales',fontdict={'fontsize':18},pad=16)"
   ]
  },
  {
   "cell_type": "markdown",
   "id": "1beb38be",
   "metadata": {},
   "source": [
    "# Data Encoding"
   ]
  },
  {
   "cell_type": "code",
   "execution_count": 24,
   "id": "7f680787",
   "metadata": {},
   "outputs": [],
   "source": [
    "from sklearn.preprocessing import LabelEncoder"
   ]
  },
  {
   "cell_type": "code",
   "execution_count": 25,
   "id": "4326826c",
   "metadata": {},
   "outputs": [
    {
     "data": {
      "text/plain": [
       "array(['First', 'Second', 'Fourth & Above', 'Third'], dtype=object)"
      ]
     },
     "execution_count": 25,
     "metadata": {},
     "output_type": "execute_result"
    }
   ],
   "source": [
    "df['Owner_Type'].unique()"
   ]
  },
  {
   "cell_type": "markdown",
   "id": "dcc5afcc",
   "metadata": {},
   "source": [
    "from what we check based on the unique value in the 'owner_type' column, the data goes into the ordinal data category,\n",
    "Ordinal data has numerical values that are related mathematically.\n",
    "\n",
    "Ex: Hotels consist of 5 classes, 1-5 stars and 5 star hotels certainly have a level of luxury that is closer to a 4-star hotel than a 1-star hotel.\n",
    "\n",
    "Common categorical data has category values consisting of 2 or more but between these categories there is no occurrence of values that are related value by order.\n",
    "\n",
    "Ex: the vehicle category consists of motorcycles, cars, trains and planes. But there is no closeness to each other like the example in ordinal data."
   ]
  },
  {
   "cell_type": "code",
   "execution_count": 26,
   "id": "e9b5fbc1",
   "metadata": {},
   "outputs": [],
   "source": [
    "df['Owner_Type'] = LabelEncoder().fit_transform(df['Owner_Type'])"
   ]
  },
  {
   "cell_type": "code",
   "execution_count": 27,
   "id": "3e13c363",
   "metadata": {},
   "outputs": [
    {
     "data": {
      "text/html": [
       "<div>\n",
       "<style scoped>\n",
       "    .dataframe tbody tr th:only-of-type {\n",
       "        vertical-align: middle;\n",
       "    }\n",
       "\n",
       "    .dataframe tbody tr th {\n",
       "        vertical-align: top;\n",
       "    }\n",
       "\n",
       "    .dataframe thead th {\n",
       "        text-align: right;\n",
       "    }\n",
       "</style>\n",
       "<table border=\"1\" class=\"dataframe\">\n",
       "  <thead>\n",
       "    <tr style=\"text-align: right;\">\n",
       "      <th></th>\n",
       "      <th>Name</th>\n",
       "      <th>Year</th>\n",
       "      <th>Kilometers_Driven</th>\n",
       "      <th>Fuel_Type</th>\n",
       "      <th>Transmission</th>\n",
       "      <th>Owner_Type</th>\n",
       "      <th>Mileage</th>\n",
       "      <th>Engine</th>\n",
       "      <th>Power</th>\n",
       "      <th>Seats</th>\n",
       "      <th>Price</th>\n",
       "    </tr>\n",
       "  </thead>\n",
       "  <tbody>\n",
       "    <tr>\n",
       "      <th>0</th>\n",
       "      <td>Maruti Wagon R LXI CNG</td>\n",
       "      <td>2010</td>\n",
       "      <td>72000</td>\n",
       "      <td>CNG</td>\n",
       "      <td>Manual</td>\n",
       "      <td>0</td>\n",
       "      <td>26.60</td>\n",
       "      <td>998.0</td>\n",
       "      <td>58.16</td>\n",
       "      <td>5.0</td>\n",
       "      <td>35936250.0</td>\n",
       "    </tr>\n",
       "    <tr>\n",
       "      <th>1</th>\n",
       "      <td>Hyundai Creta 1.6 CRDi SX Option</td>\n",
       "      <td>2015</td>\n",
       "      <td>41000</td>\n",
       "      <td>Diesel</td>\n",
       "      <td>Manual</td>\n",
       "      <td>0</td>\n",
       "      <td>19.67</td>\n",
       "      <td>1582.0</td>\n",
       "      <td>126.20</td>\n",
       "      <td>5.0</td>\n",
       "      <td>256687500.0</td>\n",
       "    </tr>\n",
       "    <tr>\n",
       "      <th>2</th>\n",
       "      <td>Maruti Ertiga VDI</td>\n",
       "      <td>2012</td>\n",
       "      <td>87000</td>\n",
       "      <td>Diesel</td>\n",
       "      <td>Manual</td>\n",
       "      <td>0</td>\n",
       "      <td>20.77</td>\n",
       "      <td>1248.0</td>\n",
       "      <td>88.76</td>\n",
       "      <td>7.0</td>\n",
       "      <td>123210000.0</td>\n",
       "    </tr>\n",
       "    <tr>\n",
       "      <th>3</th>\n",
       "      <td>Nissan Micra Diesel XV</td>\n",
       "      <td>2013</td>\n",
       "      <td>86999</td>\n",
       "      <td>Diesel</td>\n",
       "      <td>Manual</td>\n",
       "      <td>0</td>\n",
       "      <td>23.08</td>\n",
       "      <td>1461.0</td>\n",
       "      <td>63.10</td>\n",
       "      <td>5.0</td>\n",
       "      <td>71872500.0</td>\n",
       "    </tr>\n",
       "    <tr>\n",
       "      <th>4</th>\n",
       "      <td>Maruti Swift VDI BSIV</td>\n",
       "      <td>2015</td>\n",
       "      <td>64424</td>\n",
       "      <td>Diesel</td>\n",
       "      <td>Manual</td>\n",
       "      <td>0</td>\n",
       "      <td>25.20</td>\n",
       "      <td>1248.0</td>\n",
       "      <td>74.00</td>\n",
       "      <td>5.0</td>\n",
       "      <td>114996000.0</td>\n",
       "    </tr>\n",
       "  </tbody>\n",
       "</table>\n",
       "</div>"
      ],
      "text/plain": [
       "                               Name  Year  Kilometers_Driven Fuel_Type  \\\n",
       "0            Maruti Wagon R LXI CNG  2010              72000       CNG   \n",
       "1  Hyundai Creta 1.6 CRDi SX Option  2015              41000    Diesel   \n",
       "2                 Maruti Ertiga VDI  2012              87000    Diesel   \n",
       "3            Nissan Micra Diesel XV  2013              86999    Diesel   \n",
       "4             Maruti Swift VDI BSIV  2015              64424    Diesel   \n",
       "\n",
       "  Transmission  Owner_Type  Mileage  Engine   Power  Seats        Price  \n",
       "0       Manual           0    26.60   998.0   58.16    5.0   35936250.0  \n",
       "1       Manual           0    19.67  1582.0  126.20    5.0  256687500.0  \n",
       "2       Manual           0    20.77  1248.0   88.76    7.0  123210000.0  \n",
       "3       Manual           0    23.08  1461.0   63.10    5.0   71872500.0  \n",
       "4       Manual           0    25.20  1248.0   74.00    5.0  114996000.0  "
      ]
     },
     "execution_count": 27,
     "metadata": {},
     "output_type": "execute_result"
    }
   ],
   "source": [
    "df.head()"
   ]
  },
  {
   "cell_type": "markdown",
   "id": "09b5959f",
   "metadata": {},
   "source": [
    "In the command below we will be encoding values for 'Name', 'Fuel_Type' and 'Transmission' with one-hot encoding technique.\n",
    "One-hot encoding is different from the label encoding technique above, One-hot encoding is a technique that extract 1 column categorical value into several columns according to the number of unique-categorical values that exist, then each column will only have a value between 0 and 1.\n",
    " "
   ]
  },
  {
   "cell_type": "code",
   "execution_count": 28,
   "id": "2e99e212",
   "metadata": {},
   "outputs": [],
   "source": [
    "encoded_df = pd.get_dummies(df)"
   ]
  },
  {
   "cell_type": "code",
   "execution_count": 29,
   "id": "939a7ce3",
   "metadata": {},
   "outputs": [
    {
     "data": {
      "text/html": [
       "<div>\n",
       "<style scoped>\n",
       "    .dataframe tbody tr th:only-of-type {\n",
       "        vertical-align: middle;\n",
       "    }\n",
       "\n",
       "    .dataframe tbody tr th {\n",
       "        vertical-align: top;\n",
       "    }\n",
       "\n",
       "    .dataframe thead th {\n",
       "        text-align: right;\n",
       "    }\n",
       "</style>\n",
       "<table border=\"1\" class=\"dataframe\">\n",
       "  <thead>\n",
       "    <tr style=\"text-align: right;\">\n",
       "      <th></th>\n",
       "      <th>Year</th>\n",
       "      <th>Kilometers_Driven</th>\n",
       "      <th>Owner_Type</th>\n",
       "      <th>Mileage</th>\n",
       "      <th>Engine</th>\n",
       "      <th>Power</th>\n",
       "      <th>Seats</th>\n",
       "      <th>Price</th>\n",
       "      <th>Name_Audi A4 2.0 TDI</th>\n",
       "      <th>Name_Audi A4 2.0 TDI 177 Bhp Premium Plus</th>\n",
       "      <th>...</th>\n",
       "      <th>Name_Volkswagen Polo Petrol Comfortline 1.2L</th>\n",
       "      <th>Name_Volkswagen Polo Petrol Highline 1.2L</th>\n",
       "      <th>Name_Volkswagen Vento 1.5 TDI Highline</th>\n",
       "      <th>Name_Volkswagen Vento Diesel Highline</th>\n",
       "      <th>Name_Volkswagen Vento Petrol Highline</th>\n",
       "      <th>Fuel_Type_CNG</th>\n",
       "      <th>Fuel_Type_Diesel</th>\n",
       "      <th>Fuel_Type_Petrol</th>\n",
       "      <th>Transmission_Automatic</th>\n",
       "      <th>Transmission_Manual</th>\n",
       "    </tr>\n",
       "  </thead>\n",
       "  <tbody>\n",
       "    <tr>\n",
       "      <th>0</th>\n",
       "      <td>2010</td>\n",
       "      <td>72000</td>\n",
       "      <td>0</td>\n",
       "      <td>26.60</td>\n",
       "      <td>998.0</td>\n",
       "      <td>58.16</td>\n",
       "      <td>5.0</td>\n",
       "      <td>35936250.0</td>\n",
       "      <td>0</td>\n",
       "      <td>0</td>\n",
       "      <td>...</td>\n",
       "      <td>0</td>\n",
       "      <td>0</td>\n",
       "      <td>0</td>\n",
       "      <td>0</td>\n",
       "      <td>0</td>\n",
       "      <td>1</td>\n",
       "      <td>0</td>\n",
       "      <td>0</td>\n",
       "      <td>0</td>\n",
       "      <td>1</td>\n",
       "    </tr>\n",
       "    <tr>\n",
       "      <th>1</th>\n",
       "      <td>2015</td>\n",
       "      <td>41000</td>\n",
       "      <td>0</td>\n",
       "      <td>19.67</td>\n",
       "      <td>1582.0</td>\n",
       "      <td>126.20</td>\n",
       "      <td>5.0</td>\n",
       "      <td>256687500.0</td>\n",
       "      <td>0</td>\n",
       "      <td>0</td>\n",
       "      <td>...</td>\n",
       "      <td>0</td>\n",
       "      <td>0</td>\n",
       "      <td>0</td>\n",
       "      <td>0</td>\n",
       "      <td>0</td>\n",
       "      <td>0</td>\n",
       "      <td>1</td>\n",
       "      <td>0</td>\n",
       "      <td>0</td>\n",
       "      <td>1</td>\n",
       "    </tr>\n",
       "    <tr>\n",
       "      <th>2</th>\n",
       "      <td>2012</td>\n",
       "      <td>87000</td>\n",
       "      <td>0</td>\n",
       "      <td>20.77</td>\n",
       "      <td>1248.0</td>\n",
       "      <td>88.76</td>\n",
       "      <td>7.0</td>\n",
       "      <td>123210000.0</td>\n",
       "      <td>0</td>\n",
       "      <td>0</td>\n",
       "      <td>...</td>\n",
       "      <td>0</td>\n",
       "      <td>0</td>\n",
       "      <td>0</td>\n",
       "      <td>0</td>\n",
       "      <td>0</td>\n",
       "      <td>0</td>\n",
       "      <td>1</td>\n",
       "      <td>0</td>\n",
       "      <td>0</td>\n",
       "      <td>1</td>\n",
       "    </tr>\n",
       "    <tr>\n",
       "      <th>3</th>\n",
       "      <td>2013</td>\n",
       "      <td>86999</td>\n",
       "      <td>0</td>\n",
       "      <td>23.08</td>\n",
       "      <td>1461.0</td>\n",
       "      <td>63.10</td>\n",
       "      <td>5.0</td>\n",
       "      <td>71872500.0</td>\n",
       "      <td>0</td>\n",
       "      <td>0</td>\n",
       "      <td>...</td>\n",
       "      <td>0</td>\n",
       "      <td>0</td>\n",
       "      <td>0</td>\n",
       "      <td>0</td>\n",
       "      <td>0</td>\n",
       "      <td>0</td>\n",
       "      <td>1</td>\n",
       "      <td>0</td>\n",
       "      <td>0</td>\n",
       "      <td>1</td>\n",
       "    </tr>\n",
       "    <tr>\n",
       "      <th>4</th>\n",
       "      <td>2015</td>\n",
       "      <td>64424</td>\n",
       "      <td>0</td>\n",
       "      <td>25.20</td>\n",
       "      <td>1248.0</td>\n",
       "      <td>74.00</td>\n",
       "      <td>5.0</td>\n",
       "      <td>114996000.0</td>\n",
       "      <td>0</td>\n",
       "      <td>0</td>\n",
       "      <td>...</td>\n",
       "      <td>0</td>\n",
       "      <td>0</td>\n",
       "      <td>0</td>\n",
       "      <td>0</td>\n",
       "      <td>0</td>\n",
       "      <td>0</td>\n",
       "      <td>1</td>\n",
       "      <td>0</td>\n",
       "      <td>0</td>\n",
       "      <td>1</td>\n",
       "    </tr>\n",
       "  </tbody>\n",
       "</table>\n",
       "<p>5 rows × 152 columns</p>\n",
       "</div>"
      ],
      "text/plain": [
       "   Year  Kilometers_Driven  Owner_Type  Mileage  Engine   Power  Seats  \\\n",
       "0  2010              72000           0    26.60   998.0   58.16    5.0   \n",
       "1  2015              41000           0    19.67  1582.0  126.20    5.0   \n",
       "2  2012              87000           0    20.77  1248.0   88.76    7.0   \n",
       "3  2013              86999           0    23.08  1461.0   63.10    5.0   \n",
       "4  2015              64424           0    25.20  1248.0   74.00    5.0   \n",
       "\n",
       "         Price  Name_Audi A4 2.0 TDI  \\\n",
       "0   35936250.0                     0   \n",
       "1  256687500.0                     0   \n",
       "2  123210000.0                     0   \n",
       "3   71872500.0                     0   \n",
       "4  114996000.0                     0   \n",
       "\n",
       "   Name_Audi A4 2.0 TDI 177 Bhp Premium Plus  ...  \\\n",
       "0                                          0  ...   \n",
       "1                                          0  ...   \n",
       "2                                          0  ...   \n",
       "3                                          0  ...   \n",
       "4                                          0  ...   \n",
       "\n",
       "   Name_Volkswagen Polo Petrol Comfortline 1.2L  \\\n",
       "0                                             0   \n",
       "1                                             0   \n",
       "2                                             0   \n",
       "3                                             0   \n",
       "4                                             0   \n",
       "\n",
       "   Name_Volkswagen Polo Petrol Highline 1.2L  \\\n",
       "0                                          0   \n",
       "1                                          0   \n",
       "2                                          0   \n",
       "3                                          0   \n",
       "4                                          0   \n",
       "\n",
       "   Name_Volkswagen Vento 1.5 TDI Highline  \\\n",
       "0                                       0   \n",
       "1                                       0   \n",
       "2                                       0   \n",
       "3                                       0   \n",
       "4                                       0   \n",
       "\n",
       "   Name_Volkswagen Vento Diesel Highline  \\\n",
       "0                                      0   \n",
       "1                                      0   \n",
       "2                                      0   \n",
       "3                                      0   \n",
       "4                                      0   \n",
       "\n",
       "   Name_Volkswagen Vento Petrol Highline  Fuel_Type_CNG  Fuel_Type_Diesel  \\\n",
       "0                                      0              1                 0   \n",
       "1                                      0              0                 1   \n",
       "2                                      0              0                 1   \n",
       "3                                      0              0                 1   \n",
       "4                                      0              0                 1   \n",
       "\n",
       "   Fuel_Type_Petrol  Transmission_Automatic  Transmission_Manual  \n",
       "0                 0                       0                    1  \n",
       "1                 0                       0                    1  \n",
       "2                 0                       0                    1  \n",
       "3                 0                       0                    1  \n",
       "4                 0                       0                    1  \n",
       "\n",
       "[5 rows x 152 columns]"
      ]
     },
     "execution_count": 29,
     "metadata": {},
     "output_type": "execute_result"
    }
   ],
   "source": [
    "encoded_df.head()"
   ]
  },
  {
   "cell_type": "markdown",
   "id": "0eeaf12b",
   "metadata": {},
   "source": [
    "# Feature-Scaling dataset"
   ]
  },
  {
   "cell_type": "code",
   "execution_count": 28,
   "id": "df117bb9",
   "metadata": {},
   "outputs": [],
   "source": [
    "from sklearn.preprocessing import MinMaxScaler"
   ]
  },
  {
   "cell_type": "code",
   "execution_count": 29,
   "id": "4f14aff3",
   "metadata": {},
   "outputs": [],
   "source": [
    "scaler = MinMaxScaler()\n",
    "scaled_df = pd.DataFrame(scaler.fit_transform(encoded_df.astype(float)))\n",
    "scaled_df.columns = encoded_df.columns"
   ]
  },
  {
   "cell_type": "markdown",
   "id": "e3fe1116",
   "metadata": {},
   "source": [
    "# Splitting dataset x and y"
   ]
  },
  {
   "cell_type": "code",
   "execution_count": 30,
   "id": "b793d98c",
   "metadata": {},
   "outputs": [],
   "source": [
    "scaled_x = scaled_df.drop(columns=['Price'])\n",
    "scaled_y = scaled_df['Price']"
   ]
  },
  {
   "cell_type": "markdown",
   "id": "92317f82",
   "metadata": {},
   "source": [
    "# PCA-Dimmensionality reduction"
   ]
  },
  {
   "cell_type": "markdown",
   "id": "8cf457e3",
   "metadata": {},
   "source": [
    "PCA is a dimension reduction technique.\n",
    "Dimensionality reduction is the process of reducing the dimensions of large-dimensional data into dimensional data\n",
    "small. \n",
    "There are two techniques in dimensionality reduction, feature selection and feature extraction. "
   ]
  },
  {
   "cell_type": "markdown",
   "id": "49252391",
   "metadata": {},
   "source": [
    "# CAUTION:"
   ]
  },
  {
   "cell_type": "markdown",
   "id": "3de458ed",
   "metadata": {},
   "source": [
    "The dataset that contain one hot-encoding shouldn't or rather  useless to used it with PCA.\n",
    "The reason i doing this , is just to make training dataset more simpler since training too much feature will be computationally expensive or we could actually just remove all the categorical dataset.\n"
   ]
  },
  {
   "cell_type": "markdown",
   "id": "f0f51734",
   "metadata": {},
   "source": [
    "i will show you why PCA is useless with one-hot-encoding in other ipynb file in PCA_with_one_hot_encoding.ipynb"
   ]
  },
  {
   "cell_type": "code",
   "execution_count": 31,
   "id": "10528256",
   "metadata": {},
   "outputs": [],
   "source": [
    "from sklearn.decomposition import PCA"
   ]
  },
  {
   "cell_type": "code",
   "execution_count": 32,
   "id": "295d3420",
   "metadata": {},
   "outputs": [],
   "source": [
    "pca = PCA(n_components = 152-1).fit(scaled_x)"
   ]
  },
  {
   "cell_type": "code",
   "execution_count": 33,
   "id": "b11bedda",
   "metadata": {},
   "outputs": [],
   "source": [
    "pc_train = pca.transform(scaled_x)"
   ]
  },
  {
   "cell_type": "code",
   "execution_count": 34,
   "id": "d2f4b119",
   "metadata": {},
   "outputs": [
    {
     "data": {
      "text/plain": [
       "array([[-2.45895031e-01, -3.54631892e-01, -4.14409102e-01, ...,\n",
       "        -2.77555756e-17,  2.08166817e-17,  5.55978874e-16],\n",
       "       [ 5.32566278e-01, -3.97720700e-01, -9.47718623e-02, ...,\n",
       "         2.20309881e-16, -2.28983499e-16, -9.71445147e-17],\n",
       "       [ 5.63149776e-01, -5.03299916e-01,  1.94714437e-01, ...,\n",
       "        -9.71445147e-17, -3.33066907e-16, -5.55111512e-17],\n",
       "       ...,\n",
       "       [ 4.95130468e-01, -4.98240333e-01, -3.25276375e-01, ...,\n",
       "         5.89805982e-17,  4.16333634e-17,  1.62196645e-16],\n",
       "       [ 4.58245643e-01, -5.97669015e-01, -5.30565316e-01, ...,\n",
       "         1.52655666e-16, -9.71445147e-17,  0.00000000e+00],\n",
       "       [-8.71015116e-01,  7.70640141e-03, -2.24378160e-02, ...,\n",
       "         3.46944695e-17,  6.59194921e-17,  1.82145965e-17]])"
      ]
     },
     "execution_count": 34,
     "metadata": {},
     "output_type": "execute_result"
    }
   ],
   "source": [
    "pc_train"
   ]
  },
  {
   "cell_type": "code",
   "execution_count": 35,
   "id": "37990306",
   "metadata": {},
   "outputs": [
    {
     "data": {
      "text/plain": [
       "(2043, 151)"
      ]
     },
     "execution_count": 35,
     "metadata": {},
     "output_type": "execute_result"
    }
   ],
   "source": [
    "pc_train.shape"
   ]
  },
  {
   "cell_type": "code",
   "execution_count": 36,
   "id": "23bc48fd",
   "metadata": {},
   "outputs": [
    {
     "name": "stdout",
     "output_type": "stream",
     "text": [
      "[3.38536656e+01 2.42099186e+01 1.52604476e+01 1.16621019e+01\n",
      " 7.90079787e+00 6.82253581e+00 6.68998465e+00 6.59435764e+00\n",
      " 6.52246439e+00 5.85173270e+00 5.72859146e+00 5.61023331e+00\n",
      " 5.38011592e+00 5.31959499e+00 5.13156603e+00 5.09792822e+00\n",
      " 5.05846814e+00 4.96186756e+00 4.83866844e+00 4.77893504e+00\n",
      " 4.76415619e+00 4.68433812e+00 4.60329559e+00 4.57551198e+00\n",
      " 4.48859899e+00 4.47035221e+00 4.46991049e+00 4.42741352e+00\n",
      " 4.37347832e+00 4.32956487e+00 4.28922874e+00 4.28102184e+00\n",
      " 4.24596111e+00 4.24123059e+00 4.22636620e+00 4.20090582e+00\n",
      " 4.15762991e+00 4.14060927e+00 4.13282773e+00 4.12474005e+00\n",
      " 4.12051167e+00 4.07809569e+00 4.05468945e+00 4.04715109e+00\n",
      " 4.00817563e+00 4.00046141e+00 3.99961585e+00 3.99489347e+00\n",
      " 3.97871689e+00 3.95225867e+00 3.93669888e+00 3.91851714e+00\n",
      " 3.88479541e+00 3.87299891e+00 3.87210550e+00 3.85607858e+00\n",
      " 3.83246716e+00 3.80936345e+00 3.79294906e+00 3.77016960e+00\n",
      " 3.73627435e+00 3.71303146e+00 3.70644347e+00 3.69532492e+00\n",
      " 3.66972328e+00 3.66168767e+00 3.63065444e+00 3.60651964e+00\n",
      " 3.60585893e+00 3.60542685e+00 3.60079751e+00 3.57303370e+00\n",
      " 3.56833071e+00 3.55050331e+00 3.52916187e+00 3.51454271e+00\n",
      " 3.50504934e+00 3.47689287e+00 3.46594561e+00 3.46410162e+00\n",
      " 3.46410162e+00 3.46410162e+00 3.46410162e+00 3.46410162e+00\n",
      " 3.46410162e+00 3.46410162e+00 3.46410162e+00 3.46410162e+00\n",
      " 3.44537281e+00 3.43899304e+00 3.39365934e+00 3.38664798e+00\n",
      " 3.36347092e+00 3.35758356e+00 3.33537223e+00 3.31862225e+00\n",
      " 3.31753325e+00 3.31662479e+00 3.31662479e+00 3.31662479e+00\n",
      " 3.31662479e+00 3.31662479e+00 3.30051230e+00 3.28726224e+00\n",
      " 3.26818544e+00 3.25068471e+00 3.23826500e+00 3.22388153e+00\n",
      " 3.21064271e+00 3.19802566e+00 3.17807534e+00 3.16906180e+00\n",
      " 3.16227766e+00 3.16227766e+00 3.16227766e+00 3.16227766e+00\n",
      " 3.16227766e+00 3.16227766e+00 3.16227766e+00 3.16227766e+00\n",
      " 3.16227766e+00 3.16227766e+00 3.13914940e+00 3.06978592e+00\n",
      " 3.04282596e+00 3.02337424e+00 3.02029208e+00 3.00804881e+00\n",
      " 3.00231757e+00 3.00214740e+00 2.87808341e+00 2.87227875e+00\n",
      " 2.84990455e+00 2.72119390e+00 2.70629747e+00 2.66990349e+00\n",
      " 2.66207058e+00 2.64850370e+00 2.18314357e+00 2.02743909e+00\n",
      " 1.88922124e+00 1.17320244e+00 1.50914721e-01 2.36682198e-03\n",
      " 1.74513132e-14 3.95496939e-15 3.91368493e-15 3.85600233e-15\n",
      " 3.49536222e-15 3.32742947e-15 9.24567622e-16]\n"
     ]
    }
   ],
   "source": [
    "print(pca.singular_values_)"
   ]
  },
  {
   "cell_type": "code",
   "execution_count": 37,
   "id": "748656fa",
   "metadata": {},
   "outputs": [],
   "source": [
    "def explained_variance(s,n_top_components):\n",
    "    exp_variance = np.square(s[:n_top_components]).sum()/np.square(s).sum()\n",
    "    \n",
    "    return exp_variance"
   ]
  },
  {
   "cell_type": "code",
   "execution_count": 38,
   "id": "fbc8e52e",
   "metadata": {},
   "outputs": [
    {
     "data": {
      "text/plain": [
       "0.8785617260984447"
      ]
     },
     "execution_count": 38,
     "metadata": {},
     "output_type": "execute_result"
    }
   ],
   "source": [
    "explained_variance(pca.singular_values_,88)\n"
   ]
  },
  {
   "cell_type": "code",
   "execution_count": 39,
   "id": "cf1fbb15",
   "metadata": {},
   "outputs": [],
   "source": [
    "def create_transformed_df(train_pca,scaled_df,n_top_components):\n",
    "    df_transformed = pd.DataFrame(train_pca ,columns=scaled_x.columns.values)\n",
    "    \n",
    "    return df_transformed.iloc[:,:n_top_components]"
   ]
  },
  {
   "cell_type": "code",
   "execution_count": 40,
   "id": "ab681562",
   "metadata": {},
   "outputs": [],
   "source": [
    "pca_scaled_df = create_transformed_df(pc_train, scaled_df, 88)"
   ]
  },
  {
   "cell_type": "code",
   "execution_count": 41,
   "id": "aa708baa",
   "metadata": {},
   "outputs": [
    {
     "data": {
      "text/html": [
       "<div>\n",
       "<style scoped>\n",
       "    .dataframe tbody tr th:only-of-type {\n",
       "        vertical-align: middle;\n",
       "    }\n",
       "\n",
       "    .dataframe tbody tr th {\n",
       "        vertical-align: top;\n",
       "    }\n",
       "\n",
       "    .dataframe thead th {\n",
       "        text-align: right;\n",
       "    }\n",
       "</style>\n",
       "<table border=\"1\" class=\"dataframe\">\n",
       "  <thead>\n",
       "    <tr style=\"text-align: right;\">\n",
       "      <th></th>\n",
       "      <th>Year</th>\n",
       "      <th>Kilometers_Driven</th>\n",
       "      <th>Owner_Type</th>\n",
       "      <th>Mileage</th>\n",
       "      <th>Engine</th>\n",
       "      <th>Power</th>\n",
       "      <th>Seats</th>\n",
       "      <th>Name_Audi A4 2.0 TDI</th>\n",
       "      <th>Name_Audi A4 2.0 TDI 177 Bhp Premium Plus</th>\n",
       "      <th>Name_Audi A4 2.0 TDI Multitronic</th>\n",
       "      <th>...</th>\n",
       "      <th>Name_Mahindra XUV500 W10 2WD</th>\n",
       "      <th>Name_Mahindra XUV500 W6 2WD</th>\n",
       "      <th>Name_Mahindra XUV500 W8 2WD</th>\n",
       "      <th>Name_Mahindra XUV500 W8 4WD</th>\n",
       "      <th>Name_Maruti A-Star Vxi</th>\n",
       "      <th>Name_Maruti Alto 800 2016-2019 LXI</th>\n",
       "      <th>Name_Maruti Alto 800 LXI</th>\n",
       "      <th>Name_Maruti Alto K10 2010-2014 VXI</th>\n",
       "      <th>Name_Maruti Alto K10 VXI</th>\n",
       "      <th>Name_Maruti Alto LXi</th>\n",
       "    </tr>\n",
       "  </thead>\n",
       "  <tbody>\n",
       "    <tr>\n",
       "      <th>0</th>\n",
       "      <td>-0.245895</td>\n",
       "      <td>-0.354632</td>\n",
       "      <td>-0.414409</td>\n",
       "      <td>0.025684</td>\n",
       "      <td>0.448911</td>\n",
       "      <td>-0.116319</td>\n",
       "      <td>1.364626</td>\n",
       "      <td>0.204152</td>\n",
       "      <td>0.566224</td>\n",
       "      <td>-0.165244</td>\n",
       "      <td>...</td>\n",
       "      <td>0.000924</td>\n",
       "      <td>1.567756e-16</td>\n",
       "      <td>-2.480655e-16</td>\n",
       "      <td>-1.734723e-17</td>\n",
       "      <td>-1.161181e-16</td>\n",
       "      <td>9.540979e-18</td>\n",
       "      <td>-2.541370e-16</td>\n",
       "      <td>2.062153e-16</td>\n",
       "      <td>8.213916e-16</td>\n",
       "      <td>-7.719519e-17</td>\n",
       "    </tr>\n",
       "    <tr>\n",
       "      <th>1</th>\n",
       "      <td>0.532566</td>\n",
       "      <td>-0.397721</td>\n",
       "      <td>-0.094772</td>\n",
       "      <td>-0.079000</td>\n",
       "      <td>-0.207864</td>\n",
       "      <td>-0.134804</td>\n",
       "      <td>-0.003943</td>\n",
       "      <td>-0.023356</td>\n",
       "      <td>-0.022774</td>\n",
       "      <td>-0.064049</td>\n",
       "      <td>...</td>\n",
       "      <td>-0.447312</td>\n",
       "      <td>-2.272178e-02</td>\n",
       "      <td>-3.328291e-01</td>\n",
       "      <td>-1.596653e-01</td>\n",
       "      <td>3.065088e-01</td>\n",
       "      <td>-3.636698e-02</td>\n",
       "      <td>-1.660151e-01</td>\n",
       "      <td>-2.505025e-02</td>\n",
       "      <td>-7.942396e-03</td>\n",
       "      <td>-2.902679e-01</td>\n",
       "    </tr>\n",
       "    <tr>\n",
       "      <th>2</th>\n",
       "      <td>0.563150</td>\n",
       "      <td>-0.503300</td>\n",
       "      <td>0.194714</td>\n",
       "      <td>-0.162617</td>\n",
       "      <td>0.525630</td>\n",
       "      <td>0.246504</td>\n",
       "      <td>0.007749</td>\n",
       "      <td>-0.137355</td>\n",
       "      <td>-0.175026</td>\n",
       "      <td>0.243072</td>\n",
       "      <td>...</td>\n",
       "      <td>0.001134</td>\n",
       "      <td>-2.933851e-16</td>\n",
       "      <td>-1.979753e-16</td>\n",
       "      <td>7.814929e-16</td>\n",
       "      <td>-4.844215e-16</td>\n",
       "      <td>5.269223e-16</td>\n",
       "      <td>-9.965986e-16</td>\n",
       "      <td>-4.018053e-16</td>\n",
       "      <td>3.061787e-16</td>\n",
       "      <td>1.097213e-16</td>\n",
       "    </tr>\n",
       "    <tr>\n",
       "      <th>3</th>\n",
       "      <td>0.459623</td>\n",
       "      <td>-0.506459</td>\n",
       "      <td>-0.269651</td>\n",
       "      <td>-0.032234</td>\n",
       "      <td>-0.026123</td>\n",
       "      <td>0.085651</td>\n",
       "      <td>0.025528</td>\n",
       "      <td>0.025180</td>\n",
       "      <td>-0.051996</td>\n",
       "      <td>-0.023616</td>\n",
       "      <td>...</td>\n",
       "      <td>0.003609</td>\n",
       "      <td>4.488597e-17</td>\n",
       "      <td>-5.080571e-16</td>\n",
       "      <td>-2.055647e-16</td>\n",
       "      <td>7.242471e-17</td>\n",
       "      <td>9.844556e-17</td>\n",
       "      <td>-6.999609e-16</td>\n",
       "      <td>-3.222249e-16</td>\n",
       "      <td>3.691492e-15</td>\n",
       "      <td>2.589075e-16</td>\n",
       "    </tr>\n",
       "    <tr>\n",
       "      <th>4</th>\n",
       "      <td>0.453509</td>\n",
       "      <td>-0.539982</td>\n",
       "      <td>-0.397292</td>\n",
       "      <td>-0.050033</td>\n",
       "      <td>0.054097</td>\n",
       "      <td>-0.048163</td>\n",
       "      <td>-0.005461</td>\n",
       "      <td>-0.014672</td>\n",
       "      <td>-0.083217</td>\n",
       "      <td>0.025258</td>\n",
       "      <td>...</td>\n",
       "      <td>-0.000923</td>\n",
       "      <td>-2.855789e-16</td>\n",
       "      <td>3.924812e-17</td>\n",
       "      <td>1.726050e-16</td>\n",
       "      <td>-4.952636e-16</td>\n",
       "      <td>1.019150e-16</td>\n",
       "      <td>1.543904e-16</td>\n",
       "      <td>8.196568e-17</td>\n",
       "      <td>-1.295838e-15</td>\n",
       "      <td>-1.665335e-16</td>\n",
       "    </tr>\n",
       "    <tr>\n",
       "      <th>...</th>\n",
       "      <td>...</td>\n",
       "      <td>...</td>\n",
       "      <td>...</td>\n",
       "      <td>...</td>\n",
       "      <td>...</td>\n",
       "      <td>...</td>\n",
       "      <td>...</td>\n",
       "      <td>...</td>\n",
       "      <td>...</td>\n",
       "      <td>...</td>\n",
       "      <td>...</td>\n",
       "      <td>...</td>\n",
       "      <td>...</td>\n",
       "      <td>...</td>\n",
       "      <td>...</td>\n",
       "      <td>...</td>\n",
       "      <td>...</td>\n",
       "      <td>...</td>\n",
       "      <td>...</td>\n",
       "      <td>...</td>\n",
       "      <td>...</td>\n",
       "    </tr>\n",
       "    <tr>\n",
       "      <th>2038</th>\n",
       "      <td>-0.862086</td>\n",
       "      <td>-0.035669</td>\n",
       "      <td>-0.154867</td>\n",
       "      <td>-0.137297</td>\n",
       "      <td>0.109191</td>\n",
       "      <td>-0.072336</td>\n",
       "      <td>-0.022193</td>\n",
       "      <td>-0.034817</td>\n",
       "      <td>-0.011947</td>\n",
       "      <td>0.044147</td>\n",
       "      <td>...</td>\n",
       "      <td>-0.002480</td>\n",
       "      <td>1.662949e-15</td>\n",
       "      <td>-1.711088e-15</td>\n",
       "      <td>-1.785030e-15</td>\n",
       "      <td>-4.913604e-16</td>\n",
       "      <td>2.131541e-15</td>\n",
       "      <td>3.538836e-15</td>\n",
       "      <td>2.687737e-15</td>\n",
       "      <td>-2.107689e-16</td>\n",
       "      <td>-4.492934e-16</td>\n",
       "    </tr>\n",
       "    <tr>\n",
       "      <th>2039</th>\n",
       "      <td>0.696518</td>\n",
       "      <td>-0.319751</td>\n",
       "      <td>0.701707</td>\n",
       "      <td>-0.203660</td>\n",
       "      <td>0.008081</td>\n",
       "      <td>0.260857</td>\n",
       "      <td>0.080712</td>\n",
       "      <td>-0.083895</td>\n",
       "      <td>-0.043156</td>\n",
       "      <td>-0.077468</td>\n",
       "      <td>...</td>\n",
       "      <td>0.001970</td>\n",
       "      <td>3.706887e-15</td>\n",
       "      <td>4.237062e-16</td>\n",
       "      <td>5.889386e-16</td>\n",
       "      <td>3.786034e-16</td>\n",
       "      <td>1.868297e-15</td>\n",
       "      <td>1.333135e-15</td>\n",
       "      <td>2.639165e-15</td>\n",
       "      <td>1.198694e-15</td>\n",
       "      <td>-5.811324e-16</td>\n",
       "    </tr>\n",
       "    <tr>\n",
       "      <th>2040</th>\n",
       "      <td>0.495130</td>\n",
       "      <td>-0.498240</td>\n",
       "      <td>-0.325276</td>\n",
       "      <td>-0.049675</td>\n",
       "      <td>-0.022156</td>\n",
       "      <td>-0.122956</td>\n",
       "      <td>0.013485</td>\n",
       "      <td>-0.026363</td>\n",
       "      <td>-0.023108</td>\n",
       "      <td>0.075701</td>\n",
       "      <td>...</td>\n",
       "      <td>-0.265005</td>\n",
       "      <td>-1.311138e-01</td>\n",
       "      <td>-5.631439e-02</td>\n",
       "      <td>4.031642e-02</td>\n",
       "      <td>1.424881e-01</td>\n",
       "      <td>4.525677e-01</td>\n",
       "      <td>5.588271e-02</td>\n",
       "      <td>-1.060312e-01</td>\n",
       "      <td>2.465669e-01</td>\n",
       "      <td>3.661240e-01</td>\n",
       "    </tr>\n",
       "    <tr>\n",
       "      <th>2041</th>\n",
       "      <td>0.458246</td>\n",
       "      <td>-0.597669</td>\n",
       "      <td>-0.530565</td>\n",
       "      <td>-0.018901</td>\n",
       "      <td>0.128941</td>\n",
       "      <td>0.193417</td>\n",
       "      <td>-0.365187</td>\n",
       "      <td>-0.189378</td>\n",
       "      <td>0.804709</td>\n",
       "      <td>0.066881</td>\n",
       "      <td>...</td>\n",
       "      <td>0.002217</td>\n",
       "      <td>6.329572e-16</td>\n",
       "      <td>-8.565197e-17</td>\n",
       "      <td>1.682682e-16</td>\n",
       "      <td>-1.574262e-16</td>\n",
       "      <td>-2.367898e-16</td>\n",
       "      <td>6.245005e-17</td>\n",
       "      <td>9.128982e-17</td>\n",
       "      <td>1.677478e-15</td>\n",
       "      <td>1.483189e-16</td>\n",
       "    </tr>\n",
       "    <tr>\n",
       "      <th>2042</th>\n",
       "      <td>-0.871015</td>\n",
       "      <td>0.007706</td>\n",
       "      <td>-0.022438</td>\n",
       "      <td>-0.116823</td>\n",
       "      <td>0.032585</td>\n",
       "      <td>0.060683</td>\n",
       "      <td>-0.020995</td>\n",
       "      <td>0.013486</td>\n",
       "      <td>-0.037681</td>\n",
       "      <td>-0.034615</td>\n",
       "      <td>...</td>\n",
       "      <td>0.000206</td>\n",
       "      <td>-4.553649e-18</td>\n",
       "      <td>-8.565197e-17</td>\n",
       "      <td>2.480655e-16</td>\n",
       "      <td>-1.422473e-16</td>\n",
       "      <td>-4.757479e-16</td>\n",
       "      <td>-4.458239e-16</td>\n",
       "      <td>-3.907465e-16</td>\n",
       "      <td>-7.589415e-17</td>\n",
       "      <td>1.951564e-17</td>\n",
       "    </tr>\n",
       "  </tbody>\n",
       "</table>\n",
       "<p>2043 rows × 88 columns</p>\n",
       "</div>"
      ],
      "text/plain": [
       "          Year  Kilometers_Driven  Owner_Type   Mileage    Engine     Power  \\\n",
       "0    -0.245895          -0.354632   -0.414409  0.025684  0.448911 -0.116319   \n",
       "1     0.532566          -0.397721   -0.094772 -0.079000 -0.207864 -0.134804   \n",
       "2     0.563150          -0.503300    0.194714 -0.162617  0.525630  0.246504   \n",
       "3     0.459623          -0.506459   -0.269651 -0.032234 -0.026123  0.085651   \n",
       "4     0.453509          -0.539982   -0.397292 -0.050033  0.054097 -0.048163   \n",
       "...        ...                ...         ...       ...       ...       ...   \n",
       "2038 -0.862086          -0.035669   -0.154867 -0.137297  0.109191 -0.072336   \n",
       "2039  0.696518          -0.319751    0.701707 -0.203660  0.008081  0.260857   \n",
       "2040  0.495130          -0.498240   -0.325276 -0.049675 -0.022156 -0.122956   \n",
       "2041  0.458246          -0.597669   -0.530565 -0.018901  0.128941  0.193417   \n",
       "2042 -0.871015           0.007706   -0.022438 -0.116823  0.032585  0.060683   \n",
       "\n",
       "         Seats  Name_Audi A4 2.0 TDI  \\\n",
       "0     1.364626              0.204152   \n",
       "1    -0.003943             -0.023356   \n",
       "2     0.007749             -0.137355   \n",
       "3     0.025528              0.025180   \n",
       "4    -0.005461             -0.014672   \n",
       "...        ...                   ...   \n",
       "2038 -0.022193             -0.034817   \n",
       "2039  0.080712             -0.083895   \n",
       "2040  0.013485             -0.026363   \n",
       "2041 -0.365187             -0.189378   \n",
       "2042 -0.020995              0.013486   \n",
       "\n",
       "      Name_Audi A4 2.0 TDI 177 Bhp Premium Plus  \\\n",
       "0                                      0.566224   \n",
       "1                                     -0.022774   \n",
       "2                                     -0.175026   \n",
       "3                                     -0.051996   \n",
       "4                                     -0.083217   \n",
       "...                                         ...   \n",
       "2038                                  -0.011947   \n",
       "2039                                  -0.043156   \n",
       "2040                                  -0.023108   \n",
       "2041                                   0.804709   \n",
       "2042                                  -0.037681   \n",
       "\n",
       "      Name_Audi A4 2.0 TDI Multitronic  ...  Name_Mahindra XUV500 W10 2WD  \\\n",
       "0                            -0.165244  ...                      0.000924   \n",
       "1                            -0.064049  ...                     -0.447312   \n",
       "2                             0.243072  ...                      0.001134   \n",
       "3                            -0.023616  ...                      0.003609   \n",
       "4                             0.025258  ...                     -0.000923   \n",
       "...                                ...  ...                           ...   \n",
       "2038                          0.044147  ...                     -0.002480   \n",
       "2039                         -0.077468  ...                      0.001970   \n",
       "2040                          0.075701  ...                     -0.265005   \n",
       "2041                          0.066881  ...                      0.002217   \n",
       "2042                         -0.034615  ...                      0.000206   \n",
       "\n",
       "      Name_Mahindra XUV500 W6 2WD  Name_Mahindra XUV500 W8 2WD  \\\n",
       "0                    1.567756e-16                -2.480655e-16   \n",
       "1                   -2.272178e-02                -3.328291e-01   \n",
       "2                   -2.933851e-16                -1.979753e-16   \n",
       "3                    4.488597e-17                -5.080571e-16   \n",
       "4                   -2.855789e-16                 3.924812e-17   \n",
       "...                           ...                          ...   \n",
       "2038                 1.662949e-15                -1.711088e-15   \n",
       "2039                 3.706887e-15                 4.237062e-16   \n",
       "2040                -1.311138e-01                -5.631439e-02   \n",
       "2041                 6.329572e-16                -8.565197e-17   \n",
       "2042                -4.553649e-18                -8.565197e-17   \n",
       "\n",
       "      Name_Mahindra XUV500 W8 4WD  Name_Maruti A-Star Vxi  \\\n",
       "0                   -1.734723e-17           -1.161181e-16   \n",
       "1                   -1.596653e-01            3.065088e-01   \n",
       "2                    7.814929e-16           -4.844215e-16   \n",
       "3                   -2.055647e-16            7.242471e-17   \n",
       "4                    1.726050e-16           -4.952636e-16   \n",
       "...                           ...                     ...   \n",
       "2038                -1.785030e-15           -4.913604e-16   \n",
       "2039                 5.889386e-16            3.786034e-16   \n",
       "2040                 4.031642e-02            1.424881e-01   \n",
       "2041                 1.682682e-16           -1.574262e-16   \n",
       "2042                 2.480655e-16           -1.422473e-16   \n",
       "\n",
       "      Name_Maruti Alto 800 2016-2019 LXI  Name_Maruti Alto 800 LXI  \\\n",
       "0                           9.540979e-18             -2.541370e-16   \n",
       "1                          -3.636698e-02             -1.660151e-01   \n",
       "2                           5.269223e-16             -9.965986e-16   \n",
       "3                           9.844556e-17             -6.999609e-16   \n",
       "4                           1.019150e-16              1.543904e-16   \n",
       "...                                  ...                       ...   \n",
       "2038                        2.131541e-15              3.538836e-15   \n",
       "2039                        1.868297e-15              1.333135e-15   \n",
       "2040                        4.525677e-01              5.588271e-02   \n",
       "2041                       -2.367898e-16              6.245005e-17   \n",
       "2042                       -4.757479e-16             -4.458239e-16   \n",
       "\n",
       "      Name_Maruti Alto K10 2010-2014 VXI  Name_Maruti Alto K10 VXI  \\\n",
       "0                           2.062153e-16              8.213916e-16   \n",
       "1                          -2.505025e-02             -7.942396e-03   \n",
       "2                          -4.018053e-16              3.061787e-16   \n",
       "3                          -3.222249e-16              3.691492e-15   \n",
       "4                           8.196568e-17             -1.295838e-15   \n",
       "...                                  ...                       ...   \n",
       "2038                        2.687737e-15             -2.107689e-16   \n",
       "2039                        2.639165e-15              1.198694e-15   \n",
       "2040                       -1.060312e-01              2.465669e-01   \n",
       "2041                        9.128982e-17              1.677478e-15   \n",
       "2042                       -3.907465e-16             -7.589415e-17   \n",
       "\n",
       "      Name_Maruti Alto LXi  \n",
       "0            -7.719519e-17  \n",
       "1            -2.902679e-01  \n",
       "2             1.097213e-16  \n",
       "3             2.589075e-16  \n",
       "4            -1.665335e-16  \n",
       "...                    ...  \n",
       "2038         -4.492934e-16  \n",
       "2039         -5.811324e-16  \n",
       "2040          3.661240e-01  \n",
       "2041          1.483189e-16  \n",
       "2042          1.951564e-17  \n",
       "\n",
       "[2043 rows x 88 columns]"
      ]
     },
     "execution_count": 41,
     "metadata": {},
     "output_type": "execute_result"
    }
   ],
   "source": [
    "pca_scaled_df"
   ]
  },
  {
   "cell_type": "markdown",
   "id": "8b0a26fc",
   "metadata": {},
   "source": [
    "# Train-test split"
   ]
  },
  {
   "cell_type": "code",
   "execution_count": 42,
   "id": "d8e57b2e",
   "metadata": {},
   "outputs": [],
   "source": [
    "from sklearn.model_selection import train_test_split"
   ]
  },
  {
   "cell_type": "code",
   "execution_count": 43,
   "id": "c282bce7",
   "metadata": {},
   "outputs": [],
   "source": [
    "train_x,test_x,train_y,test_y = train_test_split(pca_scaled_df,scaled_y,test_size=0.33)"
   ]
  },
  {
   "cell_type": "code",
   "execution_count": 44,
   "id": "595c3fc1",
   "metadata": {},
   "outputs": [
    {
     "data": {
      "text/plain": [
       "(1368, 88)"
      ]
     },
     "execution_count": 44,
     "metadata": {},
     "output_type": "execute_result"
    }
   ],
   "source": [
    "train_x.shape"
   ]
  },
  {
   "cell_type": "code",
   "execution_count": 45,
   "id": "2bae8d6f",
   "metadata": {},
   "outputs": [
    {
     "data": {
      "text/plain": [
       "(675, 88)"
      ]
     },
     "execution_count": 45,
     "metadata": {},
     "output_type": "execute_result"
    }
   ],
   "source": [
    "test_x.shape"
   ]
  },
  {
   "cell_type": "markdown",
   "id": "600c411d",
   "metadata": {},
   "source": [
    "# Training model"
   ]
  },
  {
   "cell_type": "markdown",
   "id": "41b20582",
   "metadata": {},
   "source": [
    "# SVM model (SVR)"
   ]
  },
  {
   "cell_type": "code",
   "execution_count": 46,
   "id": "b53b7976",
   "metadata": {},
   "outputs": [],
   "source": [
    "from sklearn.svm import SVR"
   ]
  },
  {
   "cell_type": "code",
   "execution_count": 47,
   "id": "f8177f41",
   "metadata": {},
   "outputs": [
    {
     "data": {
      "text/plain": [
       "SVR(C=100, epsilon=0.05, gamma=0.1)"
      ]
     },
     "execution_count": 47,
     "metadata": {},
     "output_type": "execute_result"
    }
   ],
   "source": [
    "svr = SVR(kernel=\"rbf\", C=100, gamma=0.1, epsilon=0.05)\n",
    "\n",
    "svr.fit(train_x,train_y)"
   ]
  },
  {
   "cell_type": "code",
   "execution_count": 48,
   "id": "dad569ce",
   "metadata": {},
   "outputs": [
    {
     "name": "stdout",
     "output_type": "stream",
     "text": [
      "SVM Data-train accuracy: 0.9262971622963214\n"
     ]
    }
   ],
   "source": [
    "train_svm_score = svr.score(train_x,train_y)\n",
    "print('SVM Data-train accuracy: {}'.format(train_svm_score))"
   ]
  },
  {
   "cell_type": "code",
   "execution_count": 49,
   "id": "4e82a15a",
   "metadata": {},
   "outputs": [
    {
     "name": "stdout",
     "output_type": "stream",
     "text": [
      "SVM test-score accuracy: 0.8969584781062849\n"
     ]
    }
   ],
   "source": [
    "test_svm_score = svr.score(test_x,test_y)\n",
    "print('SVM test-score accuracy: {}'.format(test_svm_score))"
   ]
  },
  {
   "cell_type": "code",
   "execution_count": 61,
   "id": "2c74d655",
   "metadata": {},
   "outputs": [
    {
     "data": {
      "text/plain": [
       "SVR(C=100, epsilon=0.05, gamma=0.1, kernel='linear')"
      ]
     },
     "execution_count": 61,
     "metadata": {},
     "output_type": "execute_result"
    }
   ],
   "source": [
    "svr = SVR(kernel='linear',gamma=0.1,epsilon=0.05,C=100)\n",
    "svr.fit(train_x,train_y)"
   ]
  },
  {
   "cell_type": "code",
   "execution_count": 62,
   "id": "a7813135",
   "metadata": {},
   "outputs": [
    {
     "data": {
      "text/plain": [
       "0.8310164556682618"
      ]
     },
     "execution_count": 62,
     "metadata": {},
     "output_type": "execute_result"
    }
   ],
   "source": [
    "svr.score(test_x,test_y)"
   ]
  },
  {
   "cell_type": "markdown",
   "id": "1efc9a59",
   "metadata": {},
   "source": [
    "# Linear regression model"
   ]
  },
  {
   "cell_type": "code",
   "execution_count": 50,
   "id": "c934cf4e",
   "metadata": {},
   "outputs": [],
   "source": [
    "from sklearn.linear_model import LinearRegression"
   ]
  },
  {
   "cell_type": "code",
   "execution_count": 51,
   "id": "f40d8d73",
   "metadata": {},
   "outputs": [],
   "source": [
    "lr_reg = LinearRegression().fit(train_x,train_y)"
   ]
  },
  {
   "cell_type": "code",
   "execution_count": 52,
   "id": "785c0b99",
   "metadata": {},
   "outputs": [
    {
     "name": "stdout",
     "output_type": "stream",
     "text": [
      "Linear-regression Data-train accuracy: 0.8366106156029076\n"
     ]
    }
   ],
   "source": [
    "lr_score = lr_reg.score(train_x,train_y)\n",
    "print('Linear-regression Data-train accuracy: {}'.format(lr_score))"
   ]
  },
  {
   "cell_type": "code",
   "execution_count": 53,
   "id": "24c1c2cb",
   "metadata": {},
   "outputs": [
    {
     "name": "stdout",
     "output_type": "stream",
     "text": [
      "Linear regression test-score accuracy: 0.8612599709282605\n"
     ]
    }
   ],
   "source": [
    "test_lr_score = lr_reg.score(test_x,test_y)\n",
    "print('Linear regression test-score accuracy: {}'.format(test_lr_score))"
   ]
  }
 ],
 "metadata": {
  "kernelspec": {
   "display_name": "Python 3 (ipykernel)",
   "language": "python",
   "name": "python3"
  },
  "language_info": {
   "codemirror_mode": {
    "name": "ipython",
    "version": 3
   },
   "file_extension": ".py",
   "mimetype": "text/x-python",
   "name": "python",
   "nbconvert_exporter": "python",
   "pygments_lexer": "ipython3",
   "version": "3.8.10"
  }
 },
 "nbformat": 4,
 "nbformat_minor": 5
}
